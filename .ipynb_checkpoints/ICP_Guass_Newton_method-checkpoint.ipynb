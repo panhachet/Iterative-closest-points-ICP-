{
 "cells": [
  {
   "cell_type": "markdown",
   "id": "1a961e23",
   "metadata": {},
   "source": [
    "# Guass-Newton Algorithm\n",
    "\n",
    "**Difinition**\\\n",
    "**Guass-Newton Algorithm** is used to solve **non-linear least squares** problem, which is equivalent to minimizing a sum of squared function values. It is an extansion of **Newton's method** for finding a minimum of a non-linear function.\n",
    "\n",
    "**Non-linear Least Squares Problem**\n",
    "In this problem, we want to minimize the objective function $f(x)$, which is the sum of squared residuals:\n",
    "$$f(x) = \\sum_{i=1}^n r_i(x)^2$$\n",
    "where $r_i(x)$ are residuals. It is the difference between the observed and predicted data.\n",
    "\n",
    "The algorithm for solving the Guass-Newton method can be written as follows:\n",
    "1. Set the initial value of $x_0$\n",
    "2. For each iteration $k$, Compute the residual vector $r(x_k)$, and calculate the Jacobian $J(x_k)$ at $x_k$\n",
    "3. Solve the Guass-Newton equation $H\\Delta x_k = g$, where:\n",
    "    - $H$ is the Hessian approximation $J(x_k)^TJ(x_k)$\n",
    "    - $g$ is the gradient $-J(x_k)^Tr(x_k)$\n",
    "    In this case, we can solve for $\\Delta x_k$ where:\n",
    "    $$\\Delta x_k = -(J(x_k)^TJ(x_k))^{-1}J(x_k)^Tr(x_k)$$\n",
    "4. Update $x_{k+1} = x_k + \\Delta x_k$ and go to second step\n",
    "5. Stop if $\\Delta x_k$ is small enough (< tolerance), or stop the algorithm if convergence is achieved otherwise continue"
   ]
  },
  {
   "cell_type": "markdown",
   "id": "7f82d8ac",
   "metadata": {},
   "source": [
    "# Iterative Closest Point (ICP) Algorithm"
   ]
  },
  {
   "cell_type": "markdown",
   "id": "216d0eed",
   "metadata": {},
   "source": [
    "i**Iterative closest point** is an algorithm used to minimize the difference between two points clouds. It is works by keep one point cloud as the reference or target (fixed), while try to transform the other (other source) in order to match the reference.\n",
    "\n",
    "The transformation (combination of translation $t$ and rotation $R$) is estimated in order to minimize an erro metric which is the sum of squared differences between the coordinates of the matched pairs.\n",
    "\n",
    "- **Input:** \n",
    "    - $P$ source point cloud for all point $p_i \\in P$\n",
    "    - $Q$ target point cloud for all point $q_j \\in Q$\n",
    "    - MaxIterations: Maximum number of iterations\n",
    "    - Tolerance: Convergence tolerance for stopping criteria\n",
    "    \n",
    "- **Ouput:**\n",
    "    - $R$ Optimal rotation matrix \n",
    "    - $t$ Optimal translation matrix \\\n",
    "    In order to align the point cloud\n",
    "    \n",
    "**Goal** is to minimize the error between the reference $Q$ and the scanned point $P$, which the error can be satisfied as below:\n",
    "$$e_{i,j} = \\lVert Rp_i + t - q_j\\lVert$$\n",
    "Solving to find the optimation solution using non-linear optimization (Guass-Newton method)\n",
    "\n",
    "**ICP based Gauss-Newton method Algorithm**\n",
    "From point $p_i \\in P$ to match with $q_j \\in Q$. Finding the pose $X = [x,y,\\theta]^T$ that minimize the sum of squared length of the correspondences.\n",
    "We have translation $t = [x,y]^T$ and rotation matrix $R = \\begin{bmatrix} cos\\theta & -sin\\theta\\\\\n",
    "sin\\theta & cos\\theta\\end{bmatrix}$.\n",
    "\n",
    "The error function is:\n",
    "$$e(X) = \\sum_{i,j}e_{i,j}(X)$$\n",
    "\n",
    "Minimization problem:\n",
    "$$X = \\underset{X}{argmin}\\sum_{i,j}\\lVert e_{i,j}(X)\\rVert^2$$\n",
    "\n",
    "Solving using Gauss-Newton Method:\n",
    "$$H\\Delta X = g$$\n",
    "where $\\Delta X = [\\Delta x, \\Delta y, \\Delta \\theta]$, $H$ is the hessian matrix $H = J(X)^TJ(X)$, and $g$ is the derivative over function that was being tried to minimize $g = -J(X)e(X)$. In this case we can say that:\n",
    "$$\\Delta X = H^{-1}g = - {J(X)^TJ(X)}^{-1}J(X)e(X)$$\n",
    "\n",
    "**Jacobian $J$**\n",
    "$$J = \\frac{\\partial e_{i,j}(X)}{\\partial X} $$\n",
    "\n",
    "$$e_{i,j} = \\begin{bmatrix} cos\\theta & -sin\\theta\\\\\n",
    "sin\\theta & cos\\theta\\end{bmatrix}p_i + \\begin{bmatrix}x\\\\y\\end{bmatrix} - q_j$$\n",
    "\n",
    "so that:\n",
    "$$J = \\left(\\frac{\\partial e_{i,j}(X)}{\\partial x}, \\frac{\\partial e_{i,j}(X)}{\\partial y}, \\frac{\\partial e_{i,j}(X)}{\\partial \\theta}\\right) = (I,R'p_i)$$"
   ]
  },
  {
   "cell_type": "code",
   "execution_count": 1,
   "id": "26923725",
   "metadata": {},
   "outputs": [],
   "source": [
    "import numpy as np\n",
    "import pandas as pd\n",
    "import matplotlib.pyplot as plt"
   ]
  },
  {
   "cell_type": "code",
   "execution_count": 2,
   "id": "6badc004",
   "metadata": {},
   "outputs": [],
   "source": [
    "df = pd.read_csv(\"coordinates.csv\")\n",
    "Qx = df['Qx'].to_numpy()\n",
    "Qy = df['Qy'].to_numpy()\n",
    "Px = df['Px'].to_numpy()\n",
    "Py = df['Py'].to_numpy()\n",
    "P = np.array([Px, Py])\n",
    "Q = np.array([Qx, Qy])"
   ]
  },
  {
   "cell_type": "code",
   "execution_count": 3,
   "id": "354b4801",
   "metadata": {},
   "outputs": [],
   "source": [
    "def plot_data(P, Q):\n",
    "    plt.plot(Q[0], Q[1], color = \"red\", marker='o', linestyle=\":\")\n",
    "    plt.plot(P[0], P[1], color = \"blue\", marker='o', linestyle=\":\")\n",
    "    plt.text(Q[0][0] - 3, Q[1][0], 'Q', fontsize=20, color='red', ha='center', va='center')\n",
    "    plt.text(P[0][0] - 3, P[1][0], 'P', fontsize=20, color='blue', ha='center', va='center')\n",
    "    plt.grid(True)\n",
    "    plt.xlim([-10, 20])\n",
    "    plt.ylim([-10,20])\n",
    "    plt.xlabel(\"x\")\n",
    "    plt.ylabel(\"y\")"
   ]
  },
  {
   "cell_type": "code",
   "execution_count": 4,
   "id": "6bd69871",
   "metadata": {},
   "outputs": [
    {
     "data": {
      "text/plain": [
       "array([0., 1., 2.])"
      ]
     },
     "execution_count": 4,
     "metadata": {},
     "output_type": "execute_result"
    }
   ],
   "source": [
    "x = np.array([1,2,3])\n",
    "t = np.linspace(0, len(x)-1, len(x))\n",
    "t"
   ]
  },
  {
   "cell_type": "code",
   "execution_count": 5,
   "id": "5e01a002",
   "metadata": {},
   "outputs": [],
   "source": [
    "def plot_error(ex, ey, etheta):\n",
    "    x = np.linspace(1, len(ex)-1, len(ex))\n",
    "    plt.subplot(3,1,1)\n",
    "    plt.plot(x, ex, color = \"red\")\n",
    "    plt.xlabel(\"Iteration\")\n",
    "    plt.ylabel(\"$e_x$\")\n",
    "    plt.grid(True)\n",
    "    plt.subplot(3,1,2)\n",
    "    plt.plot(x, ey, color = \"blue\")\n",
    "    plt.xlabel(\"Iteration\")\n",
    "    plt.ylabel(\"$e_y$\")\n",
    "    plt.grid(True)\n",
    "    plt.subplot(3,1,3)\n",
    "    plt.plot(x, etheta, color = \"yellow\")\n",
    "    plt.xlabel(\"Iteration\")\n",
    "    plt.ylabel(\"$e_{/theta}$\")\n",
    "    plt.grid(True)\n",
    "    "
   ]
  },
  {
   "cell_type": "code",
   "execution_count": 6,
   "id": "e318bd1d",
   "metadata": {},
   "outputs": [
    {
     "data": {
      "image/png": "[encoded data removed]",
      "text/plain": [
       "<Figure size 432x288 with 1 Axes>"
      ]
     },
     "metadata": {
      "needs_background": "light"
     },
     "output_type": "display_data"
    }
   ],
   "source": [
    "plot_data(P,Q)"
   ]
  },
  {
   "cell_type": "markdown",
   "id": "331ebe62",
   "metadata": {},
   "source": [
    "***Find the correspondences***\\\n",
    "To find the closest point in $Q$ for each point in set $P$ based on the Euclidean distance between each point. The problem is for each point $p_i\\in P$ and $q_j\\in Q$  such that the distance is minimized.\n",
    "\n",
    "- For each $p_i$ calculate its distance to all points of $q_j\\in Q$ \n",
    "- Compute the distance for each pair of point $p_i$ and $q_j$, the eculidean distance is computed as:\n",
    "$$d(p_i,q_j) = \\sqrt{\\sum_{k=1}^n (p_i^k - q_j^k)^2}$$\n",
    "- Find the closest point: keeps track of the minimum distance found and corresponding index of the closest point in $Q$"
   ]
  },
  {
   "cell_type": "code",
   "execution_count": null,
   "id": "3ccd249a",
   "metadata": {},
   "outputs": [],
   "source": []
  },
  {
   "cell_type": "code",
   "execution_count": 7,
   "id": "c9eb5a6a",
   "metadata": {},
   "outputs": [
    {
     "data": {
      "text/plain": [
       "array([[ 4. ,  5. ,  6. ,  7. ,  8. ,  9. , 10. , 11. , 12. ],\n",
       "       [ 0.4,  0.5,  0.6,  0.7,  3. ,  3. ,  3. ,  3. ,  3. ]])"
      ]
     },
     "execution_count": 7,
     "metadata": {},
     "output_type": "execute_result"
    }
   ],
   "source": [
    "P"
   ]
  },
  {
   "cell_type": "code",
   "execution_count": 8,
   "id": "e6d95eba",
   "metadata": {},
   "outputs": [
    {
     "name": "stdout",
     "output_type": "stream",
     "text": [
      "[(0, 3), (1, 4), (2, 6), (3, 7), (4, 8), (5, 8), (6, 8), (7, 8), (8, 8)]\n"
     ]
    },
    {
     "data": {
      "image/png": "[encoded data removed]",
      "text/plain": [
       "<Figure size 432x288 with 1 Axes>"
      ]
     },
     "metadata": {
      "needs_background": "light"
     },
     "output_type": "display_data"
    }
   ],
   "source": [
    "def correspondence(P, Q):\n",
    "    \"\"\"For each point in P find closest one in Q.\"\"\"\n",
    "    p_size = P.shape[1]\n",
    "    q_size = Q.shape[1]\n",
    "    correspondences = []\n",
    "    for i in range(p_size):\n",
    "        p_point = P[:, i] # point of p\n",
    "        min_dist = float('inf')\n",
    "        chosen_idx = -1 # chose from -1 and than 0\n",
    "        for j in range(q_size):\n",
    "            q_point = Q[:, j]\n",
    "            dist = np.sqrt(np.sum(p_point -q_point)**2)\n",
    "            if dist < min_dist:\n",
    "                min_dist = dist\n",
    "                chosen_idx = j\n",
    "        correspondences.append((i, chosen_idx))  # current point i P \n",
    "        #index of point Q that is closest to the current point p in i\n",
    "    return correspondences\n",
    "\n",
    "corr = correspondence(P,Q)\n",
    "print(corr)\n",
    "plot_data(P,Q)\n",
    "for i, j in corr:\n",
    "    x = [P[0, i], Q[0, j]]\n",
    "    y = [P[1, i], Q[1, j]]\n",
    "    plt.plot(x,y, color = \"yellow\")"
   ]
  },
  {
   "cell_type": "code",
   "execution_count": 9,
   "id": "2a7f1398",
   "metadata": {},
   "outputs": [],
   "source": [
    "def correspondence_by_x(P, Q):\n",
    "    \"\"\"For each point in P with matching Qx, find closest one in Q.\"\"\"\n",
    "    p_size = P.shape[1]\n",
    "    q_size = Q.shape[1]\n",
    "    correspondences = []\n",
    "    for i in range(p_size):\n",
    "        p_point = P[:, i] # point of P\n",
    "        if p_point[0] in Q[0] and p_point[1] in Q[1]: # Only consider points where Qx matches Px\n",
    "            min_dist = float('inf')\n",
    "            chosen_idx = -1 # chose from -1 and then 0\n",
    "            for j in range(q_size):\n",
    "                q_point = Q[:, j]\n",
    "                dist = np.sqrt(np.sum(p_point - q_point)**2)\n",
    "                if dist < min_dist:\n",
    "                    min_dist = dist\n",
    "                    chosen_idx = j\n",
    "            correspondences.append((i, chosen_idx))  # current point i in P \n",
    "                                                    # and index of point in Q closest to P\n",
    "    return correspondences\n"
   ]
  },
  {
   "cell_type": "code",
   "execution_count": 10,
   "id": "40277762",
   "metadata": {},
   "outputs": [],
   "source": [
    "# initial condition\n",
    "X = np.array([1,1,np.deg2rad(25)]) \n",
    "\n",
    "def rotation(theta):\n",
    "    return np.array([\n",
    "        [np.cos(theta), -np.sin(theta)],\n",
    "        [np.sin(theta), np.cos(theta)]\n",
    "    ])\n",
    "\n",
    "def d_rotation(theta):\n",
    "    return np.array([\n",
    "        [-np.sin(theta), -np.cos(theta)],\n",
    "        [np.cos(theta), -np.sin(theta)]\n",
    "    ])"
   ]
  },
  {
   "cell_type": "code",
   "execution_count": 11,
   "id": "bedc036b",
   "metadata": {},
   "outputs": [],
   "source": [
    "def jacobian(x, p):\n",
    "    theta = x[2]\n",
    "    J = np.zeros((2, 3))\n",
    "    J[0:2, 0:2] = np.identity(2)\n",
    "    J[0:2, [2]]= (d_rotation(theta)@p)\n",
    "    return J"
   ]
  },
  {
   "cell_type": "code",
   "execution_count": 12,
   "id": "7c7ba07d",
   "metadata": {},
   "outputs": [],
   "source": [
    "def error(x, p, q):\n",
    "    R = rotation(x[2])\n",
    "    t = x[0:2].reshape(2,1)\n",
    "    return (R@p + t - q)"
   ]
  },
  {
   "cell_type": "code",
   "execution_count": 13,
   "id": "5740e44d",
   "metadata": {},
   "outputs": [],
   "source": [
    "def solver(x, P, Q, correspondences):\n",
    "    H = np.zeros((3,3))\n",
    "    g = np.zeros((3,1))\n",
    "    for i, j in correspondences: # for each correspondence point between P and Q\n",
    "        p = P[:, [i]]\n",
    "        q = Q[:, [j]]\n",
    "        e = error(x, p, q) # it is the error between each correspondence point of P and Q\n",
    "        J = jacobian(x, p)\n",
    "        H += J.T @ J\n",
    "        g += J.T @ e\n",
    "    return H, g"
   ]
  },
  {
   "cell_type": "code",
   "execution_count": 14,
   "id": "575d8cc0",
   "metadata": {},
   "outputs": [
    {
     "data": {
      "text/plain": [
       "(array([[4. , 5. , 6. , 7. , 8. , 9. ],\n",
       "        [0.4, 0.5, 0.6, 0.7, 3. , 3. ]]),\n",
       " array([[4, 5, 6, 7, 8, 9],\n",
       "        [0, 0, 0, 0, 0, 0]]))"
      ]
     },
     "execution_count": 14,
     "metadata": {},
     "output_type": "execute_result"
    }
   ],
   "source": [
    "def select_matched_points(P, Q):\n",
    "    matched_indices = []\n",
    "    matched_points_P = []\n",
    "    matched_points_Q = []\n",
    "    for i in range(P.shape[1]):\n",
    "        p_point = P[:, i]\n",
    "        if p_point[0] in Q[0] or p_point[1] in Q[1]:\n",
    "            matched_indices.append(i)\n",
    "            matched_points_P.append(p_point)\n",
    "            matched_points_Q.append(Q[:, [j for j in range(Q.shape[1]) if Q[0, j] == p_point[0] or Q[1, j] == p_point[1]][0]])\n",
    "    return np.array(matched_points_P).T, np.array(matched_points_Q).T\n",
    "\n",
    "select_matched_points(P, Q)"
   ]
  },
  {
   "cell_type": "code",
   "execution_count": 15,
   "id": "9cf05c24",
   "metadata": {},
   "outputs": [
    {
     "data": {
      "text/plain": [
       "array([[ 4. ,  5. ,  6. ,  7. ,  8. ,  9. , 10. , 11. , 12. ],\n",
       "       [ 0.4,  0.5,  0.6,  0.7,  3. ,  3. ,  3. ,  3. ,  3. ]])"
      ]
     },
     "execution_count": 15,
     "metadata": {},
     "output_type": "execute_result"
    }
   ],
   "source": [
    "P"
   ]
  },
  {
   "cell_type": "code",
   "execution_count": 16,
   "id": "83f4dc16",
   "metadata": {},
   "outputs": [],
   "source": [
    "def icp(P, Q, x_init, iteration, tolerance):\n",
    "    x = x_init\n",
    "    x_new = [x_init]\n",
    "    P_new = [P.copy()]\n",
    "    Dx = []\n",
    "    P1, Q1 = select_matched_points(P, Q)\n",
    "    P_prev = P1.copy()\n",
    "    for i in range(iteration):\n",
    "        R = rotation(x[2])\n",
    "        t = x[0:2]\n",
    "        corr = correspondence(P_prev, Q1)\n",
    "        print(corr)\n",
    "        H, g = solver(x, P1, Q1, corr)\n",
    "        dx = -np.linalg.inv(H)@g.flatten()\n",
    "        Dx.append(dx)\n",
    "        x = x + dx\n",
    "        x[2] = np.arctan2(np.sin(x[2]), np.cos(x[2]))\n",
    "        x_new.append(x)\n",
    "        R = rotation(x[2])\n",
    "        t = x[0:2].reshape(2, 1)\n",
    "        P_prev = R @ P1.copy() + t\n",
    "        P_new.append(P_prev)\n",
    "        P_re = R @ P.copy() + t\n",
    "        \n",
    "        if np.linalg.norm(dx) < tolerance:\n",
    "            break\n",
    "        \n",
    "    return P_re, Dx"
   ]
  },
  {
   "cell_type": "code",
   "execution_count": 17,
   "id": "e2c17330",
   "metadata": {
    "scrolled": false
   },
   "outputs": [
    {
     "name": "stdout",
     "output_type": "stream",
     "text": [
      "[(0, 0), (1, 1), (2, 3), (3, 4), (4, 5), (5, 5)]\n",
      "[(0, 0), (1, 0), (2, 0), (3, 1), (4, 4), (5, 5)]\n",
      "[(0, 0), (1, 0), (2, 0), (3, 1), (4, 4), (5, 4)]\n",
      "[(0, 0), (1, 0), (2, 0), (3, 1), (4, 4), (5, 4)]\n",
      "[(0, 0), (1, 0), (2, 0), (3, 1), (4, 4), (5, 4)]\n",
      "[(0, 0), (1, 0), (2, 0), (3, 1), (4, 4), (5, 4)]\n",
      "[(0, 0), (1, 0), (2, 0), (3, 1), (4, 4), (5, 4)]\n",
      "[(0, 0), (1, 0), (2, 0), (3, 1), (4, 4), (5, 4)]\n",
      "[(0, 0), (1, 0), (2, 0), (3, 1), (4, 4), (5, 4)]\n",
      "[(0, 0), (1, 0), (2, 0), (3, 1), (4, 4), (5, 4)]\n",
      "[(0, 0), (1, 0), (2, 0), (3, 1), (4, 4), (5, 4)]\n"
     ]
    },
    {
     "data": {
      "image/png": "[encoded data removed]",
      "text/plain": [
       "<Figure size 432x288 with 1 Axes>"
      ]
     },
     "metadata": {
      "needs_background": "light"
     },
     "output_type": "display_data"
    },
    {
     "name": "stdout",
     "output_type": "stream",
     "text": [
      "[array([-2.05012764, -1.33722315, -0.68664148]), array([ 0.18032712,  2.93177398, -0.34788535]), array([ 0.32343562,  0.16603651, -0.0373645 ]), array([ 0.02412066,  0.04166849, -0.00719759]), array([ 0.00403463,  0.00826289, -0.00138403]), array([ 0.00075369,  0.00159886, -0.00026612]), array([ 1.44104402e-04,  3.07803526e-04, -5.11683141e-05]), array([ 2.76779266e-05,  5.91976449e-05, -9.83850072e-06]), array([ 5.32072308e-06,  1.13828774e-05, -1.89171947e-06]), array([ 1.02301270e-06,  2.18868712e-06, -3.63734542e-07]), array([ 1.96700509e-07,  4.20835364e-07, -6.99378630e-08])]\n"
     ]
    }
   ],
   "source": [
    "P_new, Dx = icp(P, Q, X, iteration = 1000, tolerance = 1e-6)\n",
    "plot_data(P_new, Q)\n",
    "plt.show()\n",
    "print(Dx)\n",
    "Dx = np.array(Dx)"
   ]
  },
  {
   "cell_type": "code",
   "execution_count": 18,
   "id": "247e8086",
   "metadata": {},
   "outputs": [
    {
     "data": {
      "image/png": "[encoded data removed]",
      "text/plain": [
       "<Figure size 432x288 with 3 Axes>"
      ]
     },
     "metadata": {
      "needs_background": "light"
     },
     "output_type": "display_data"
    }
   ],
   "source": [
    "plot_error(Dx[:,0], Dx[:, 1], Dx[:,2])"
   ]
  }
 ],
 "metadata": {
  "kernelspec": {
   "display_name": "Python 3 (ipykernel)",
   "language": "python",
   "name": "python3"
  },
  "language_info": {
   "codemirror_mode": {
    "name": "ipython",
    "version": 3
   },
   "file_extension": ".py",
   "mimetype": "text/x-python",
   "name": "python",
   "nbconvert_exporter": "python",
   "pygments_lexer": "ipython3",
   "version": "3.9.7"
  }
 },
 "nbformat": 4,
 "nbformat_minor": 5
}
